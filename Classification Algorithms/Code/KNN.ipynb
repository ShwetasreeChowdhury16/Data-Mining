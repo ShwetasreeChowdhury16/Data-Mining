{
 "cells": [
  {
   "cell_type": "code",
   "execution_count": 0,
   "metadata": {
    "colab": {},
    "colab_type": "code",
    "id": "AEtwz9sSQ6dI"
   },
   "outputs": [],
   "source": [
    "import pandas as pd\n",
    "import numpy as np\n",
    "import operator\n",
    "import io\n",
    "from google.colab import files\n"
   ]
  },
  {
   "cell_type": "code",
   "execution_count": 3,
   "metadata": {
    "colab": {
     "base_uri": "https://localhost:8080/",
     "height": 346,
     "resources": {
      "http://localhost:8080/nbextensions/google.colab/files.js": {
       "data": "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",
       "headers": [
        [
         "content-type",
         "application/javascript"
        ]
       ],
       "ok": true,
       "status": 200,
       "status_text": ""
      }
     }
    },
    "colab_type": "code",
    "id": "mDx7VC2aRK3s",
    "outputId": "19f08434-19fb-4bbe-d0a3-5ede522b1fc1"
   },
   "outputs": [
    {
     "data": {
      "text/html": [
       "\n",
       "     <input type=\"file\" id=\"files-d7bef67c-5a98-4b1e-908b-6b2dcafca26f\" name=\"files[]\" multiple disabled />\n",
       "     <output id=\"result-d7bef67c-5a98-4b1e-908b-6b2dcafca26f\">\n",
       "      Upload widget is only available when the cell has been executed in the\n",
       "      current browser session. Please rerun this cell to enable.\n",
       "      </output>\n",
       "      <script src=\"/nbextensions/google.colab/files.js\"></script> "
      ],
      "text/plain": [
       "<IPython.core.display.HTML object>"
      ]
     },
     "metadata": {
      "tags": []
     },
     "output_type": "display_data"
    },
    {
     "name": "stdout",
     "output_type": "stream",
     "text": [
      "Saving project3_dataset2.txt to project3_dataset2 (1).txt\n",
      "       0     1      2      3  4   5      6      7   8  9\n",
      "0    132  6.20   6.47  36.21  1  62  30.77  14.14  45  0\n",
      "1    123  0.05   4.61  13.69  0  51  23.23   2.78  16  0\n",
      "2    128  0.50   3.70  12.81  1  66  21.25  22.73  28  0\n",
      "3    114  9.60   2.51  29.18  0  49  25.67  40.63  46  0\n",
      "4    150  0.30   6.38  33.99  1  62  24.64   0.00  50  0\n",
      "..   ...   ...    ...    ... ..  ..    ...    ...  .. ..\n",
      "457  114  4.08   4.59  14.60  1  62  23.11   6.72  58  1\n",
      "458  136  2.80   2.53   9.28  1  61  20.70   4.55  25  0\n",
      "459  138  4.50   2.85  30.11  0  55  24.78  24.89  56  1\n",
      "460  170  7.60   5.50  37.83  1  42  37.41   6.17  54  1\n",
      "461  128  0.00  10.58  31.81  1  46  28.41  14.66  48  0\n",
      "\n",
      "[462 rows x 10 columns]\n",
      "(462, 9) (462,)\n",
      "(369, 9) (93, 9) (369,) (93,)\n"
     ]
    }
   ],
   "source": [
    "# For Dataset 1 and 2\n",
    "\n",
    "uploaded = files.upload()\n",
    "original_data = pd.read_csv(io.BytesIO(uploaded['project3_dataset2.txt']), delimiter=\"\\t\", header=None)\n",
    "\n",
    "for index,row in enumerate(original_data.values):\n",
    "  if 'Present' in row:\n",
    "    original_data.at[index,np.where(row=='Present')[0][0]] = 1\n",
    "  elif 'Absent' in row:\n",
    "    original_data.at[index,np.where(row=='Absent')[0][0]] = 0\n",
    "\n",
    "print(original_data)\n",
    "\n",
    "groundtruth_shape=original_data.shape[1]\n",
    "data=original_data.iloc[ : ,  :groundtruth_shape-1]\n",
    "groundtruth= original_data.iloc[ : ,  groundtruth_shape-1]\n",
    "print(data.shape,groundtruth.shape)\n",
    "\n",
    "from sklearn.model_selection import train_test_split\n",
    "X_train, X_test, y_train, y_test = train_test_split(data, groundtruth, test_size=0.20)\n",
    "print(X_train.shape, X_test.shape, y_train.shape, y_test.shape)\n"
   ]
  },
  {
   "cell_type": "code",
   "execution_count": 0,
   "metadata": {
    "colab": {
     "base_uri": "https://localhost:8080/",
     "height": 92,
     "resources": {
      "http://localhost:8080/nbextensions/google.colab/files.js": {
       "data": "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",
       "headers": [
        [
         "content-type",
         "application/javascript"
        ]
       ],
       "ok": true,
       "status": 200,
       "status_text": ""
      }
     }
    },
    "colab_type": "code",
    "id": "rnp10g8XR0hC",
    "outputId": "18d778b6-228c-4d74-b42a-4361a959e6a2"
   },
   "outputs": [
    {
     "data": {
      "text/html": [
       "\n",
       "     <input type=\"file\" id=\"files-eb7a8707-abec-4ed8-8cc4-fb9649ea7441\" name=\"files[]\" multiple disabled />\n",
       "     <output id=\"result-eb7a8707-abec-4ed8-8cc4-fb9649ea7441\">\n",
       "      Upload widget is only available when the cell has been executed in the\n",
       "      current browser session. Please rerun this cell to enable.\n",
       "      </output>\n",
       "      <script src=\"/nbextensions/google.colab/files.js\"></script> "
      ],
      "text/plain": [
       "<IPython.core.display.HTML object>"
      ]
     },
     "metadata": {
      "tags": []
     },
     "output_type": "display_data"
    },
    {
     "name": "stdout",
     "output_type": "stream",
     "text": [
      "Saving project3_dataset3_train.txt to project3_dataset3_train (5).txt\n"
     ]
    },
    {
     "data": {
      "text/plain": [
       "(80, 5)"
      ]
     },
     "execution_count": 306,
     "metadata": {
      "tags": []
     },
     "output_type": "execute_result"
    }
   ],
   "source": [
    "#For demo\n",
    "uploaded = files.upload()\n",
    "train_data_full = pd.read_csv(io.BytesIO(uploaded['project3_dataset3_train.txt']), delimiter=\"\\t\", header=None)\n",
    "train_data_full.shape"
   ]
  },
  {
   "cell_type": "code",
   "execution_count": 0,
   "metadata": {
    "colab": {
     "base_uri": "https://localhost:8080/",
     "height": 92,
     "resources": {
      "http://localhost:8080/nbextensions/google.colab/files.js": {
       "data": "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",
       "headers": [
        [
         "content-type",
         "application/javascript"
        ]
       ],
       "ok": true,
       "status": 200,
       "status_text": ""
      }
     }
    },
    "colab_type": "code",
    "id": "ZKXP4i4Hoi3m",
    "outputId": "bb9c523a-679f-421b-a6df-3412efe540b9"
   },
   "outputs": [
    {
     "data": {
      "text/html": [
       "\n",
       "     <input type=\"file\" id=\"files-b22d2cc3-f7a3-48a1-943f-2c69bb1510e3\" name=\"files[]\" multiple disabled />\n",
       "     <output id=\"result-b22d2cc3-f7a3-48a1-943f-2c69bb1510e3\">\n",
       "      Upload widget is only available when the cell has been executed in the\n",
       "      current browser session. Please rerun this cell to enable.\n",
       "      </output>\n",
       "      <script src=\"/nbextensions/google.colab/files.js\"></script> "
      ],
      "text/plain": [
       "<IPython.core.display.HTML object>"
      ]
     },
     "metadata": {
      "tags": []
     },
     "output_type": "display_data"
    },
    {
     "name": "stdout",
     "output_type": "stream",
     "text": [
      "Saving project3_dataset3_test.txt to project3_dataset3_test (5).txt\n"
     ]
    },
    {
     "data": {
      "text/plain": [
       "(20, 5)"
      ]
     },
     "execution_count": 308,
     "metadata": {
      "tags": []
     },
     "output_type": "execute_result"
    }
   ],
   "source": [
    "#For Demo\n",
    "uploaded = files.upload()\n",
    "test_data_full = pd.read_csv(io.BytesIO(uploaded['project3_dataset3_test.txt']), delimiter=\"\\t\", header=None)\n",
    "test_data_full.shape"
   ]
  },
  {
   "cell_type": "code",
   "execution_count": 0,
   "metadata": {
    "colab": {
     "base_uri": "https://localhost:8080/",
     "height": 34
    },
    "colab_type": "code",
    "id": "-cVwdxoQM0JA",
    "outputId": "e285f790-fff1-494f-e5fb-0e8efb94bd6f"
   },
   "outputs": [
    {
     "name": "stdout",
     "output_type": "stream",
     "text": [
      "(80, 4) (20, 4) (80,) (20,)\n"
     ]
    }
   ],
   "source": [
    "#For demo\n",
    "\n",
    "groundtruth_shape_demo=train_data_full.shape[1]\n",
    "train_data=train_data_full.iloc[ : ,  :groundtruth_shape_demo-1]\n",
    "train_label= train_data_full.iloc[ : ,  groundtruth_shape_demo-1]\n",
    "test_data=test_data_full.iloc[ : ,  :groundtruth_shape_demo-1]\n",
    "test_label= test_data_full.iloc[ : ,  groundtruth_shape_demo-1]\n",
    "\n",
    "print(train_data.shape, test_data.shape, train_label.shape, test_label.shape)\n"
   ]
  },
  {
   "cell_type": "code",
   "execution_count": 0,
   "metadata": {
    "colab": {},
    "colab_type": "code",
    "id": "SYtRYDZQXE8S"
   },
   "outputs": [],
   "source": [
    "# Defining a function which calculates euclidean distance between two data points\n",
    "import math\n",
    "def euclideanDistance(instance1, instance2, length):\n",
    "    distance = 0\n",
    "    for x in range(length):\n",
    "        distance += pow((instance1[x] - instance2[x]), 2)            \n",
    "    return math.sqrt(distance)"
   ]
  },
  {
   "cell_type": "code",
   "execution_count": 0,
   "metadata": {
    "colab": {},
    "colab_type": "code",
    "id": "NALQkQAmP3iT"
   },
   "outputs": [],
   "source": [
    "# Defining our KNN model\n",
    "def knn(trainingSet, testInstance, k,y_train): \n",
    "    distances = {}\n",
    "    sort = {}\n",
    "    length = testInstance.shape[0]\n",
    "    for x in range(len(trainingSet)):\n",
    "        dist = euclideanDistance(testInstance, trainingSet.iloc[x], length)     \n",
    "        distances[x] = dist\n",
    "    sorted_d = sorted(distances.items(), key=operator.itemgetter(1))\n",
    "    neighbors = []\n",
    "    for x in range(k):\n",
    "        neighbors.append(sorted_d[x][0])\n",
    "    \n",
    "    #print('Length of neighbours',len(neighbors))\n",
    "    classVotes = {}\n",
    "    for x in range(len(neighbors)):\n",
    "        response = y_train.iloc[neighbors[x]]\n",
    "        #print('Response=',response)\n",
    " \n",
    "        if response in classVotes:\n",
    "            classVotes[response] += 1\n",
    "        else:\n",
    "            classVotes[response] = 1\n",
    "\n",
    "    sortedVotes = sorted(classVotes.items(), key=operator.itemgetter(1), reverse=True)\n",
    "    return(sortedVotes[0][0], neighbors)\n"
   ]
  },
  {
   "cell_type": "code",
   "execution_count": 0,
   "metadata": {
    "colab": {},
    "colab_type": "code",
    "id": "kYWexB_5RY-y"
   },
   "outputs": [],
   "source": [
    "def evaluatePerformance(y_test, predictedLabelList):\n",
    "    data = {'Predicted': predictedLabelList ,\n",
    "            'Actual':  y_test  \n",
    "           }\n",
    "\n",
    "    df = pd.DataFrame(data, columns=['Actual','Predicted'])\n",
    "\n",
    "    confusion_matrix = pd.crosstab(df['Actual'], df['Predicted'])\n",
    "    #print(confusion_matrix) \n",
    "\n",
    "    tn=confusion_matrix[0][0]\n",
    "    fn=confusion_matrix[0][1]\n",
    "    fp=confusion_matrix[1][0]\n",
    "    tp=confusion_matrix[1][1]\n",
    "\n",
    "    Accuracy=(tp+tn)/(tp+tn+fp+fn)*100\n",
    "    Precision=(tp)/(tp+fp)\n",
    "    Recall=(tp)/(tp+fn)\n",
    "    F1_Score= 2*((Recall*Precision)/(Recall + Precision))\n",
    "    #print(\"TP:\",tp,\" TN:\",tn,\" FN:\",fn,\" FP:\",fp)\n",
    "    return Accuracy,Precision,Recall,F1_Score"
   ]
  },
  {
   "cell_type": "code",
   "execution_count": 7,
   "metadata": {
    "colab": {
     "base_uri": "https://localhost:8080/",
     "height": 1000
    },
    "colab_type": "code",
    "id": "DukGNrU7qCMD",
    "outputId": "a1cd8f47-0730-4a85-b74e-95d3bacf2343"
   },
   "outputs": [
    {
     "name": "stdout",
     "output_type": "stream",
     "text": [
      "\n",
      "\n",
      "With 5  Nearest Neighbour \n",
      "\n",
      "\n",
      "**** 1 **** \n",
      "Predicted Label =  0    Nearest Neighbour=  [260, 281, 246, 182, 339] \n",
      "\n",
      "**** 2 **** \n",
      "Predicted Label =  0    Nearest Neighbour=  [302, 150, 48, 23, 5] \n",
      "\n",
      "**** 3 **** \n",
      "Predicted Label =  0    Nearest Neighbour=  [89, 104, 314, 177, 139] \n",
      "\n",
      "**** 4 **** \n",
      "Predicted Label =  1    Nearest Neighbour=  [355, 106, 358, 365, 72] \n",
      "\n",
      "**** 5 **** \n",
      "Predicted Label =  0    Nearest Neighbour=  [22, 274, 155, 256, 231] \n",
      "\n",
      "**** 6 **** \n",
      "Predicted Label =  0    Nearest Neighbour=  [320, 286, 86, 203, 134] \n",
      "\n",
      "**** 7 **** \n",
      "Predicted Label =  0    Nearest Neighbour=  [158, 46, 336, 60, 279] \n",
      "\n",
      "**** 8 **** \n",
      "Predicted Label =  0    Nearest Neighbour=  [168, 83, 185, 282, 4] \n",
      "\n",
      "**** 9 **** \n",
      "Predicted Label =  0    Nearest Neighbour=  [288, 40, 222, 357, 287] \n",
      "\n",
      "**** 10 **** \n",
      "Predicted Label =  0    Nearest Neighbour=  [282, 55, 302, 247, 168] \n",
      "\n",
      "**** 11 **** \n",
      "Predicted Label =  1    Nearest Neighbour=  [144, 232, 359, 201, 356] \n",
      "\n",
      "**** 12 **** \n",
      "Predicted Label =  0    Nearest Neighbour=  [218, 349, 284, 265, 67] \n",
      "\n",
      "**** 13 **** \n",
      "Predicted Label =  0    Nearest Neighbour=  [25, 247, 320, 362, 134] \n",
      "\n",
      "**** 14 **** \n",
      "Predicted Label =  0    Nearest Neighbour=  [298, 120, 194, 119, 350] \n",
      "\n",
      "**** 15 **** \n",
      "Predicted Label =  1    Nearest Neighbour=  [354, 367, 267, 346, 141] \n",
      "\n",
      "**** 16 **** \n",
      "Predicted Label =  0    Nearest Neighbour=  [279, 53, 336, 128, 60] \n",
      "\n",
      "**** 17 **** \n",
      "Predicted Label =  1    Nearest Neighbour=  [348, 47, 42, 32, 156] \n",
      "\n",
      "**** 18 **** \n",
      "Predicted Label =  0    Nearest Neighbour=  [226, 207, 132, 344, 356] \n",
      "\n",
      "**** 19 **** \n",
      "Predicted Label =  0    Nearest Neighbour=  [304, 332, 295, 250, 162] \n",
      "\n",
      "**** 20 **** \n",
      "Predicted Label =  0    Nearest Neighbour=  [325, 51, 111, 100, 333] \n",
      "\n",
      "**** 21 **** \n",
      "Predicted Label =  0    Nearest Neighbour=  [154, 178, 343, 246, 94] \n",
      "\n",
      "**** 22 **** \n",
      "Predicted Label =  1    Nearest Neighbour=  [285, 70, 258, 196, 250] \n",
      "\n",
      "**** 23 **** \n",
      "Predicted Label =  0    Nearest Neighbour=  [207, 132, 18, 212, 335] \n",
      "\n",
      "**** 24 **** \n",
      "Predicted Label =  0    Nearest Neighbour=  [316, 32, 169, 274, 368] \n",
      "\n",
      "**** 25 **** \n",
      "Predicted Label =  0    Nearest Neighbour=  [25, 362, 50, 109, 134] \n",
      "\n",
      "**** 26 **** \n",
      "Predicted Label =  0    Nearest Neighbour=  [24, 37, 326, 319, 39] \n",
      "\n",
      "**** 27 **** \n",
      "Predicted Label =  1    Nearest Neighbour=  [11, 135, 346, 149, 33] \n",
      "\n",
      "**** 28 **** \n",
      "Predicted Label =  0    Nearest Neighbour=  [13, 273, 133, 85, 342] \n",
      "\n",
      "**** 29 **** \n",
      "Predicted Label =  0    Nearest Neighbour=  [45, 267, 196, 58, 49] \n",
      "\n",
      "**** 30 **** \n",
      "Predicted Label =  0    Nearest Neighbour=  [313, 300, 196, 151, 58] \n",
      "\n",
      "**** 31 **** \n",
      "Predicted Label =  0    Nearest Neighbour=  [349, 265, 284, 183, 52] \n",
      "\n",
      "**** 32 **** \n",
      "Predicted Label =  1    Nearest Neighbour=  [42, 283, 316, 199, 84] \n",
      "\n",
      "**** 33 **** \n",
      "Predicted Label =  0    Nearest Neighbour=  [255, 277, 322, 230, 156] \n",
      "\n",
      "**** 34 **** \n",
      "Predicted Label =  0    Nearest Neighbour=  [345, 142, 8, 184, 239] \n",
      "\n",
      "**** 35 **** \n",
      "Predicted Label =  0    Nearest Neighbour=  [183, 265, 349, 192, 112] \n",
      "\n",
      "**** 36 **** \n",
      "Predicted Label =  0    Nearest Neighbour=  [24, 231, 357, 136, 343] \n",
      "\n",
      "**** 37 **** \n",
      "Predicted Label =  0    Nearest Neighbour=  [94, 136, 178, 154, 343] \n",
      "\n",
      "**** 38 **** \n",
      "Predicted Label =  1    Nearest Neighbour=  [11, 311, 49, 367, 220] \n",
      "\n",
      "**** 39 **** \n",
      "Predicted Label =  0    Nearest Neighbour=  [281, 16, 182, 339, 178] \n",
      "\n",
      "**** 40 **** \n",
      "Predicted Label =  1    Nearest Neighbour=  [245, 184, 232, 345, 163] \n",
      "\n",
      "**** 41 **** \n",
      "Predicted Label =  1    Nearest Neighbour=  [256, 250, 328, 22, 208] \n",
      "\n",
      "**** 42 **** \n",
      "Predicted Label =  0    Nearest Neighbour=  [239, 191, 237, 289, 71] \n",
      "\n",
      "**** 43 **** \n",
      "Predicted Label =  0    Nearest Neighbour=  [133, 234, 148, 183, 110] \n",
      "\n",
      "**** 44 **** \n",
      "Predicted Label =  0    Nearest Neighbour=  [55, 302, 150, 220, 117] \n",
      "\n",
      "**** 45 **** \n",
      "Predicted Label =  0    Nearest Neighbour=  [202, 37, 191, 236, 209] \n",
      "\n",
      "**** 46 **** \n",
      "Predicted Label =  0    Nearest Neighbour=  [296, 327, 146, 170, 118] \n",
      "\n",
      "**** 47 **** \n",
      "Predicted Label =  1    Nearest Neighbour=  [98, 312, 118, 287, 10] \n",
      "\n",
      "**** 48 **** \n",
      "Predicted Label =  0    Nearest Neighbour=  [207, 132, 226, 18, 344] \n",
      "\n",
      "**** 49 **** \n",
      "Predicted Label =  0    Nearest Neighbour=  [349, 265, 110, 62, 52] \n",
      "\n",
      "**** 50 **** \n",
      "Predicted Label =  1    Nearest Neighbour=  [58, 367, 354, 267, 346] \n",
      "\n",
      "**** 51 **** \n",
      "Predicted Label =  0    Nearest Neighbour=  [24, 281, 260, 319, 297] \n",
      "\n",
      "**** 52 **** \n",
      "Predicted Label =  0    Nearest Neighbour=  [130, 14, 93, 242, 303] \n",
      "\n",
      "**** 53 **** \n",
      "Predicted Label =  0    Nearest Neighbour=  [314, 139, 340, 89, 54] \n",
      "\n",
      "**** 54 **** \n",
      "Predicted Label =  0    Nearest Neighbour=  [208, 304, 250, 256, 39] \n",
      "\n",
      "**** 55 **** \n",
      "Predicted Label =  0    Nearest Neighbour=  [229, 109, 99, 215, 351] \n",
      "\n",
      "**** 56 **** \n",
      "Predicted Label =  0    Nearest Neighbour=  [105, 268, 323, 242, 338] \n",
      "\n",
      "**** 57 **** \n",
      "Predicted Label =  0    Nearest Neighbour=  [54, 139, 89, 314, 324] \n",
      "\n",
      "**** 58 **** \n",
      "Predicted Label =  0    Nearest Neighbour=  [334, 217, 248, 20, 194] \n",
      "\n",
      "**** 59 **** \n",
      "Predicted Label =  1    Nearest Neighbour=  [245, 163, 232, 92, 138] \n",
      "\n",
      "**** 60 **** \n",
      "Predicted Label =  0    Nearest Neighbour=  [260, 238, 366, 95, 38] \n",
      "\n",
      "**** 61 **** \n",
      "Predicted Label =  0    Nearest Neighbour=  [338, 105, 54, 139, 280] \n",
      "\n",
      "**** 62 **** \n",
      "Predicted Label =  0    Nearest Neighbour=  [55, 302, 48, 247, 304] \n",
      "\n",
      "**** 63 **** \n",
      "Predicted Label =  0    Nearest Neighbour=  [229, 247, 302, 200, 109] \n",
      "\n",
      "**** 64 **** \n",
      "Predicted Label =  1    Nearest Neighbour=  [243, 172, 164, 17, 259] \n",
      "\n",
      "**** 65 **** \n",
      "Predicted Label =  0    Nearest Neighbour=  [320, 25, 247, 86, 134] \n",
      "\n",
      "**** 66 **** \n",
      "Predicted Label =  1    Nearest Neighbour=  [185, 168, 282, 100, 299] \n",
      "\n",
      "**** 67 **** \n",
      "Predicted Label =  0    Nearest Neighbour=  [298, 120, 125, 350, 194] \n",
      "\n",
      "**** 68 **** \n",
      "Predicted Label =  1    Nearest Neighbour=  [365, 117, 135, 141, 267] \n",
      "\n",
      "**** 69 **** \n",
      "Predicted Label =  1    Nearest Neighbour=  [224, 12, 108, 73, 49] \n",
      "\n",
      "**** 70 **** \n",
      "Predicted Label =  1    Nearest Neighbour=  [266, 108, 73, 348, 61] \n",
      "\n",
      "**** 71 **** \n",
      "Predicted Label =  0    Nearest Neighbour=  [333, 90, 44, 360, 216] \n",
      "\n",
      "**** 72 **** \n",
      "Predicted Label =  0    Nearest Neighbour=  [202, 238, 191, 366, 163] \n",
      "\n",
      "**** 73 **** \n",
      "Predicted Label =  1    Nearest Neighbour=  [263, 71, 243, 334, 142] \n",
      "\n",
      "**** 74 **** \n",
      "Predicted Label =  0    Nearest Neighbour=  [235, 176, 368, 32, 311] \n",
      "\n",
      "**** 75 **** \n",
      "Predicted Label =  0    Nearest Neighbour=  [160, 147, 350, 120, 194] \n",
      "\n",
      "**** 76 **** \n",
      "Predicted Label =  0    Nearest Neighbour=  [38, 148, 46, 52, 183] \n",
      "\n",
      "**** 77 **** \n",
      "Predicted Label =  0    Nearest Neighbour=  [260, 53, 246, 137, 128] \n",
      "\n",
      "**** 78 **** \n",
      "Predicted Label =  0    Nearest Neighbour=  [8, 340, 345, 236, 139] \n",
      "\n",
      "**** 79 **** \n",
      "Predicted Label =  0    Nearest Neighbour=  [25, 336, 197, 247, 134] \n",
      "\n",
      "**** 80 **** \n",
      "Predicted Label =  0    Nearest Neighbour=  [338, 280, 105, 323, 104] \n",
      "\n",
      "**** 81 **** \n",
      "Predicted Label =  0    Nearest Neighbour=  [23, 47, 127, 1, 168] \n",
      "\n",
      "**** 82 **** \n",
      "Predicted Label =  0    Nearest Neighbour=  [195, 175, 278, 124, 342] \n",
      "\n",
      "**** 83 **** \n",
      "Predicted Label =  0    Nearest Neighbour=  [328, 237, 322, 191, 152] \n",
      "\n",
      "**** 84 **** \n",
      "Predicted Label =  0    Nearest Neighbour=  [282, 302, 168, 150, 55] \n",
      "\n",
      "**** 85 **** \n",
      "Predicted Label =  0    Nearest Neighbour=  [150, 47, 127, 215, 23] \n",
      "\n",
      "**** 86 **** \n",
      "Predicted Label =  0    Nearest Neighbour=  [99, 109, 154, 362, 343] \n",
      "\n",
      "**** 87 **** \n",
      "Predicted Label =  1    Nearest Neighbour=  [174, 177, 268, 122, 314] \n",
      "\n",
      "**** 88 **** \n",
      "Predicted Label =  1    Nearest Neighbour=  [282, 185, 168, 206, 83] \n",
      "\n",
      "**** 89 **** \n",
      "Predicted Label =  0    Nearest Neighbour=  [243, 164, 142, 172, 191] \n",
      "\n",
      "**** 90 **** \n",
      "Predicted Label =  0    Nearest Neighbour=  [300, 313, 151, 196, 211] \n",
      "\n",
      "**** 91 **** \n",
      "Predicted Label =  0    Nearest Neighbour=  [309, 244, 87, 278, 297] \n",
      "\n",
      "**** 92 **** \n",
      "Predicted Label =  1    Nearest Neighbour=  [161, 308, 33, 135, 11] \n",
      "\n",
      "**** 93 **** \n",
      "Predicted Label =  0    Nearest Neighbour=  [357, 27, 273, 231, 182] \n",
      "\n",
      "Accuracy: 66.66666666666666\n",
      "Precision: 0.4090909090909091\n",
      "Recall: 0.3333333333333333\n",
      "F1-Score: 0.36734693877551017\n"
     ]
    }
   ],
   "source": [
    "'''\n",
    "# ******** For Demo*******\n",
    "\n",
    "X_test = test_data\n",
    "X_train=train_data\n",
    "y_train= train_label\n",
    "y_test= test_label\n",
    "k = 5\n",
    "#*****************************   \n",
    "'''\n",
    "\n",
    "#******For Dataset1 & 2\n",
    "\n",
    "X_test = pd.DataFrame(X_test)\n",
    "X_train= pd.DataFrame(X_train)\n",
    "y_train= y_train\n",
    "y_test= y_test\n",
    "\n",
    "k = 5   \n",
    "#**********************    \n",
    "\n",
    "predictedLabelList=[]\n",
    "print('\\n\\nWith',k,' Nearest Neighbour \\n\\n')\n",
    "for x in range(len(X_test)):   \n",
    "    #print(X_train.shape,X_test.iloc[x].shape,k)    \n",
    "    predictedLabel,neighbour = knn(X_train, X_test.iloc[x], k,y_train)\n",
    "    print('****',x+1,'****','\\nPredicted Label = ', predictedLabel,'   Nearest Neighbour= ',neighbour,'\\n')\n",
    "    predictedLabelList.append(predictedLabel)\n",
    "\n",
    "Accuracy,Precision,Recall,F1_Score=evaluatePerformance(y_test, predictedLabelList)\n",
    "print('Accuracy:', Accuracy)\n",
    "print('Precision:', Precision)\n",
    "print('Recall:', Recall)\n",
    "print('F1-Score:', F1_Score)"
   ]
  },
  {
   "cell_type": "code",
   "execution_count": 8,
   "metadata": {
    "colab": {
     "base_uri": "https://localhost:8080/",
     "height": 629
    },
    "colab_type": "code",
    "id": "4iD0wwV532WX",
    "outputId": "434980f0-7562-4d2c-9fc9-36ff373502e5"
   },
   "outputs": [
    {
     "name": "stdout",
     "output_type": "stream",
     "text": [
      "\n",
      " *****  Fold 1 Performance:\n",
      "Accuracy: 52.17391304347826 Precision: 0.46153846153846156 Recall: 0.2857142857142857 F1-Score: 0.35294117647058826\n",
      "\n",
      " *****  Fold 2 Performance:\n",
      "Accuracy: 69.56521739130434 Precision: 0.4166666666666667 Recall: 0.4166666666666667 F1-Score: 0.4166666666666667\n",
      "\n",
      " *****  Fold 3 Performance:\n",
      "Accuracy: 65.21739130434783 Precision: 0.6666666666666666 Recall: 0.3157894736842105 F1-Score: 0.42857142857142855\n",
      "\n",
      " *****  Fold 4 Performance:\n",
      "Accuracy: 56.52173913043478 Precision: 0.3076923076923077 Recall: 0.26666666666666666 F1-Score: 0.28571428571428575\n",
      "\n",
      " *****  Fold 5 Performance:\n",
      "Accuracy: 56.52173913043478 Precision: 0.5555555555555556 Recall: 0.23809523809523808 F1-Score: 0.33333333333333326\n",
      "\n",
      " *****  Fold 6 Performance:\n",
      "Accuracy: 52.17391304347826 Precision: 0.3333333333333333 Recall: 0.2222222222222222 F1-Score: 0.26666666666666666\n",
      "\n",
      " *****  Fold 7 Performance:\n",
      "Accuracy: 63.04347826086957 Precision: 0.35714285714285715 Recall: 0.38461538461538464 F1-Score: 0.3703703703703704\n",
      "\n",
      " *****  Fold 8 Performance:\n",
      "Accuracy: 76.08695652173914 Precision: 0.4444444444444444 Recall: 0.4 F1-Score: 0.4210526315789474\n",
      "\n",
      " *****  Fold 9 Performance:\n",
      "Accuracy: 54.347826086956516 Precision: 0.3076923076923077 Recall: 0.25 F1-Score: 0.27586206896551724\n",
      "\n",
      " *****  Fold 10 Performance:\n",
      "Accuracy: 54.166666666666664 Precision: 0.18181818181818182 Recall: 0.13333333333333333 F1-Score: 0.15384615384615383\n",
      "\n",
      " \n",
      " Mean accuracy is :  59.981884057971016\n",
      "Mean precision is :  0.4032550782550782\n",
      "Mean recall is :  0.2913103270998008\n",
      "Mean fmeasure is :  0.3305024782183958\n"
     ]
    }
   ],
   "source": [
    "kfold = 10\n",
    "start = 0\n",
    "k=5\n",
    "\n",
    "sets = len(original_data) // kfold\n",
    "rest = len(original_data) % kfold\n",
    "\n",
    "accuracy = []\n",
    "precision = []\n",
    "recall = []\n",
    "fmeasure = []\n",
    "predictedLabelList= []\n",
    "\n",
    "\n",
    "for i in range(0,kfold):\n",
    "    shape=original_data.shape[1]\n",
    "    data=original_data.iloc[ : ,  :shape-1]\n",
    "    #print(data.shape,groundtruth.shape)\n",
    "\n",
    "    testdata = data\n",
    "    trainingdata = data\n",
    "    labels = original_data.iloc[:,shape-1]\n",
    "\n",
    "    end = start + sets\n",
    "\n",
    "    if i == kfold-1:\n",
    "        end = end + rest\n",
    "\n",
    "    testdata = testdata[start:end]\n",
    "    test_labels = labels[start:end]\n",
    "    trainingdata1= trainingdata.drop(range(start,end))\n",
    "    traininglabels=labels.drop(range(start,end))\n",
    "    #print (testdata.shape, test_labels.shape, trainingdata1.shape, traininglabels.shape)\n",
    "    predictedLabelList= []\n",
    "    for x in range(len(testdata)):       \n",
    "        #print(trainingdata1.shape,testdata.iloc[x].shape,k)\n",
    "        predictedLabel,neighbour = knn(trainingdata1, testdata.iloc[x], k, traininglabels)\n",
    "        #print('****',x+1,'****','\\nPredicted Label = ', predictedLabel,'   Nearest Neighbour= ',neighbour,'\\n')\n",
    "        predictedLabelList.append(predictedLabel)\n",
    "    #actual = convert_labels(test_labels)\n",
    "    Accuracy,Precision,Recall,F1_Score = evaluatePerformance(test_labels, predictedLabelList)\n",
    "    print(\"\\n *****  Fold \"+str(i+1)+\" Performance:\")\n",
    "    print('Accuracy:', Accuracy, 'Precision:', Precision,'Recall:', Recall, 'F1-Score:', F1_Score )\n",
    "\n",
    "    recall.append(Recall)\n",
    "    precision.append(Precision)\n",
    "    fmeasure.append(F1_Score)\n",
    "    accuracy.append(Accuracy)\n",
    "\n",
    "    start = end\n",
    "    \n",
    "\n",
    "mean_accuracy = np.mean(accuracy)\n",
    "mean_precision = np.mean(precision)\n",
    "mean_recall = np.mean(recall)\n",
    "mean_fmeasure = np.mean(fmeasure)\n",
    "\n",
    "print(\"\\n \\n Mean accuracy is : \",mean_accuracy)\n",
    "print(\"Mean precision is : \",mean_precision)\n",
    "print(\"Mean recall is : \",mean_recall)\n",
    "print(\"Mean fmeasure is : \",mean_fmeasure)\n"
   ]
  }
 ],
 "metadata": {
  "colab": {
   "collapsed_sections": [],
   "name": "KNNSample2.ipynb",
   "provenance": []
  },
  "kernelspec": {
   "display_name": "Python 3",
   "language": "python",
   "name": "python3"
  },
  "language_info": {
   "codemirror_mode": {
    "name": "ipython",
    "version": 3
   },
   "file_extension": ".py",
   "mimetype": "text/x-python",
   "name": "python",
   "nbconvert_exporter": "python",
   "pygments_lexer": "ipython3",
   "version": "3.6.9"
  }
 },
 "nbformat": 4,
 "nbformat_minor": 1
}
